{
 "cells": [
  {
   "cell_type": "markdown",
   "id": "70790eb8",
   "metadata": {},
   "source": [
    "# IMDB Cerifications\n"
   ]
  },
  {
   "cell_type": "code",
   "execution_count": 1,
   "id": "e94941cb",
   "metadata": {},
   "outputs": [],
   "source": [
    "# Imports\n",
    "import numpy as np\n",
    "import pandas as pd\n",
    "import matplotlib.pyplot as plt\n",
    "import seaborn as sns\n",
    "import os, json, math, time\n",
    "from tqdm.notebook import tqdm_notebook\n",
    "import tmdbsimple as tmdb "
   ]
  },
  {
   "cell_type": "code",
   "execution_count": 2,
   "id": "982ae11c",
   "metadata": {},
   "outputs": [],
   "source": [
    "# Load the data\n",
    "df0 = pd.read_csv('Data/final_tmdb_data_2000.csv.gz')\n",
    "df1 = pd.read_csv('Data/final_tmdb_data_2001.csv.gz')"
   ]
  },
  {
   "cell_type": "code",
   "execution_count": 3,
   "id": "f8a2356c",
   "metadata": {},
   "outputs": [
    {
     "name": "stdout",
     "output_type": "stream",
     "text": [
      "<class 'pandas.core.frame.DataFrame'>\n",
      "RangeIndex: 1249 entries, 0 to 1248\n",
      "Data columns (total 26 columns):\n",
      " #   Column                 Non-Null Count  Dtype  \n",
      "---  ------                 --------------  -----  \n",
      " 0   imdb_id                1249 non-null   object \n",
      " 1   adult                  1248 non-null   float64\n",
      " 2   backdrop_path          695 non-null    object \n",
      " 3   belongs_to_collection  117 non-null    object \n",
      " 4   budget                 1248 non-null   float64\n",
      " 5   genres                 1248 non-null   object \n",
      " 6   homepage               63 non-null     object \n",
      " 7   id                     1248 non-null   float64\n",
      " 8   original_language      1248 non-null   object \n",
      " 9   original_title         1248 non-null   object \n",
      " 10  overview               1227 non-null   object \n",
      " 11  popularity             1248 non-null   float64\n",
      " 12  poster_path            1129 non-null   object \n",
      " 13  production_companies   1248 non-null   object \n",
      " 14  production_countries   1248 non-null   object \n",
      " 15  release_date           1239 non-null   object \n",
      " 16  revenue                1248 non-null   float64\n",
      " 17  runtime                1248 non-null   float64\n",
      " 18  spoken_languages       1248 non-null   object \n",
      " 19  status                 1248 non-null   object \n",
      " 20  tagline                556 non-null    object \n",
      " 21  title                  1248 non-null   object \n",
      " 22  video                  1248 non-null   float64\n",
      " 23  vote_average           1248 non-null   float64\n",
      " 24  vote_count             1248 non-null   float64\n",
      " 25  certification          394 non-null    object \n",
      "dtypes: float64(9), object(17)\n",
      "memory usage: 253.8+ KB\n"
     ]
    }
   ],
   "source": [
    "# Display info for year 2000\n",
    "df0.info()"
   ]
  },
  {
   "cell_type": "code",
   "execution_count": 4,
   "id": "bd959478",
   "metadata": {
    "scrolled": true
   },
   "outputs": [
    {
     "name": "stdout",
     "output_type": "stream",
     "text": [
      "<class 'pandas.core.frame.DataFrame'>\n",
      "RangeIndex: 1343 entries, 0 to 1342\n",
      "Data columns (total 26 columns):\n",
      " #   Column                 Non-Null Count  Dtype  \n",
      "---  ------                 --------------  -----  \n",
      " 0   imdb_id                1343 non-null   object \n",
      " 1   adult                  1342 non-null   float64\n",
      " 2   backdrop_path          727 non-null    object \n",
      " 3   belongs_to_collection  93 non-null     object \n",
      " 4   budget                 1342 non-null   float64\n",
      " 5   genres                 1342 non-null   object \n",
      " 6   homepage               108 non-null    object \n",
      " 7   id                     1342 non-null   float64\n",
      " 8   original_language      1342 non-null   object \n",
      " 9   original_title         1342 non-null   object \n",
      " 10  overview               1316 non-null   object \n",
      " 11  popularity             1342 non-null   float64\n",
      " 12  poster_path            1210 non-null   object \n",
      " 13  production_companies   1342 non-null   object \n",
      " 14  production_countries   1342 non-null   object \n",
      " 15  release_date           1327 non-null   object \n",
      " 16  revenue                1342 non-null   float64\n",
      " 17  runtime                1342 non-null   float64\n",
      " 18  spoken_languages       1342 non-null   object \n",
      " 19  status                 1342 non-null   object \n",
      " 20  tagline                557 non-null    object \n",
      " 21  title                  1342 non-null   object \n",
      " 22  video                  1342 non-null   float64\n",
      " 23  vote_average           1342 non-null   float64\n",
      " 24  vote_count             1342 non-null   float64\n",
      " 25  certification          419 non-null    object \n",
      "dtypes: float64(9), object(17)\n",
      "memory usage: 272.9+ KB\n"
     ]
    }
   ],
   "source": [
    "# Display info for year 2001\n",
    "df1.info()"
   ]
  },
  {
   "cell_type": "code",
   "execution_count": 5,
   "id": "0fbc1f5f",
   "metadata": {},
   "outputs": [],
   "source": [
    "# Combine the two dataframes\n",
    "cat_df = [df0, df1]\n",
    "new_df = pd.concat((cat_df), ignore_index=True, sort=False)"
   ]
  },
  {
   "cell_type": "code",
   "execution_count": 6,
   "id": "7e7948d6",
   "metadata": {
    "scrolled": true
   },
   "outputs": [
    {
     "name": "stdout",
     "output_type": "stream",
     "text": [
      "<class 'pandas.core.frame.DataFrame'>\n",
      "RangeIndex: 2592 entries, 0 to 2591\n",
      "Data columns (total 26 columns):\n",
      " #   Column                 Non-Null Count  Dtype  \n",
      "---  ------                 --------------  -----  \n",
      " 0   imdb_id                2592 non-null   object \n",
      " 1   adult                  2590 non-null   float64\n",
      " 2   backdrop_path          1422 non-null   object \n",
      " 3   belongs_to_collection  210 non-null    object \n",
      " 4   budget                 2590 non-null   float64\n",
      " 5   genres                 2590 non-null   object \n",
      " 6   homepage               171 non-null    object \n",
      " 7   id                     2590 non-null   float64\n",
      " 8   original_language      2590 non-null   object \n",
      " 9   original_title         2590 non-null   object \n",
      " 10  overview               2543 non-null   object \n",
      " 11  popularity             2590 non-null   float64\n",
      " 12  poster_path            2339 non-null   object \n",
      " 13  production_companies   2590 non-null   object \n",
      " 14  production_countries   2590 non-null   object \n",
      " 15  release_date           2566 non-null   object \n",
      " 16  revenue                2590 non-null   float64\n",
      " 17  runtime                2590 non-null   float64\n",
      " 18  spoken_languages       2590 non-null   object \n",
      " 19  status                 2590 non-null   object \n",
      " 20  tagline                1113 non-null   object \n",
      " 21  title                  2590 non-null   object \n",
      " 22  video                  2590 non-null   float64\n",
      " 23  vote_average           2590 non-null   float64\n",
      " 24  vote_count             2590 non-null   float64\n",
      " 25  certification          813 non-null    object \n",
      "dtypes: float64(9), object(17)\n",
      "memory usage: 526.6+ KB\n"
     ]
    }
   ],
   "source": [
    "# Display the concatenated dataframe\n",
    "new_df.info()"
   ]
  },
  {
   "cell_type": "code",
   "execution_count": 7,
   "id": "3db1e27b",
   "metadata": {},
   "outputs": [],
   "source": [
    "# Exclude movies with a 0 budget\n",
    "new_df = new_df[(new_df['budget']>0)]"
   ]
  },
  {
   "cell_type": "code",
   "execution_count": 8,
   "id": "98c37135",
   "metadata": {},
   "outputs": [],
   "source": [
    "# Exclude movies with a 0 revenue\n",
    "new_df = new_df[new_df['revenue']>0]"
   ]
  },
  {
   "cell_type": "code",
   "execution_count": 9,
   "id": "24d528d2",
   "metadata": {
    "scrolled": true
   },
   "outputs": [
    {
     "name": "stdout",
     "output_type": "stream",
     "text": [
      "<class 'pandas.core.frame.DataFrame'>\n",
      "Int64Index: 356 entries, 4 to 2538\n",
      "Data columns (total 26 columns):\n",
      " #   Column                 Non-Null Count  Dtype  \n",
      "---  ------                 --------------  -----  \n",
      " 0   imdb_id                356 non-null    object \n",
      " 1   adult                  356 non-null    float64\n",
      " 2   backdrop_path          349 non-null    object \n",
      " 3   belongs_to_collection  89 non-null     object \n",
      " 4   budget                 356 non-null    float64\n",
      " 5   genres                 356 non-null    object \n",
      " 6   homepage               51 non-null     object \n",
      " 7   id                     356 non-null    float64\n",
      " 8   original_language      356 non-null    object \n",
      " 9   original_title         356 non-null    object \n",
      " 10  overview               356 non-null    object \n",
      " 11  popularity             356 non-null    float64\n",
      " 12  poster_path            356 non-null    object \n",
      " 13  production_companies   356 non-null    object \n",
      " 14  production_countries   356 non-null    object \n",
      " 15  release_date           356 non-null    object \n",
      " 16  revenue                356 non-null    float64\n",
      " 17  runtime                356 non-null    float64\n",
      " 18  spoken_languages       356 non-null    object \n",
      " 19  status                 356 non-null    object \n",
      " 20  tagline                328 non-null    object \n",
      " 21  title                  356 non-null    object \n",
      " 22  video                  356 non-null    float64\n",
      " 23  vote_average           356 non-null    float64\n",
      " 24  vote_count             356 non-null    float64\n",
      " 25  certification          311 non-null    object \n",
      "dtypes: float64(9), object(17)\n",
      "memory usage: 75.1+ KB\n"
     ]
    }
   ],
   "source": [
    "# display movies with above a 0 revenue AND budget\n",
    "new_df.info()"
   ]
  },
  {
   "cell_type": "code",
   "execution_count": 10,
   "id": "1447ed7c",
   "metadata": {
    "scrolled": true
   },
   "outputs": [
    {
     "data": {
      "text/plain": [
       "R        144\n",
       "PG-13    117\n",
       "PG        30\n",
       "G         13\n",
       "NR         7\n",
       "Name: certification, dtype: int64"
      ]
     },
     "execution_count": 10,
     "metadata": {},
     "output_type": "execute_result"
    }
   ],
   "source": [
    "# List number of movies in each certification category\n",
    "new_df['certification'].value_counts()"
   ]
  },
  {
   "cell_type": "code",
   "execution_count": 12,
   "id": "c0c43bee",
   "metadata": {
    "scrolled": true
   },
   "outputs": [
    {
     "data": {
      "image/png": "[encoded data removed]",
      "text/plain": [
       "<Figure size 640x480 with 1 Axes>"
      ]
     },
     "metadata": {},
     "output_type": "display_data"
    }
   ],
   "source": [
    "# Visual for the count of each cerifications?\n",
    "sns.countplot(data=new_df, x = 'certification');"
   ]
  },
  {
   "cell_type": "code",
   "execution_count": null,
   "id": "9b7cb3bc",
   "metadata": {
    "scrolled": true
   },
   "outputs": [],
   "source": [
    "# Average revenue per certification category\n",
    "rev= new_df.groupby('certification')['revenue'].mean()\n",
    "round(rev)"
   ]
  },
  {
   "cell_type": "code",
   "execution_count": null,
   "id": "66b9f991",
   "metadata": {
    "scrolled": true
   },
   "outputs": [],
   "source": [
    "# Average budget per certification category\n",
    "bud = new_df.groupby('certification')['budget'].mean()\n",
    "round(bud)"
   ]
  },
  {
   "cell_type": "code",
   "execution_count": null,
   "id": "8d9dfbdd",
   "metadata": {},
   "outputs": [],
   "source": [
    "# Save the results\n",
    "new_df.to_csv(f'Data/tmdb_results_combined.csv.gz',compression = 'gzip',index=False)"
   ]
  }
 ],
 "metadata": {
  "kernelspec": {
   "display_name": "Python (dojo-env)",
   "language": "python",
   "name": "dojo-env"
  },
  "language_info": {
   "codemirror_mode": {
    "name": "ipython",
    "version": 3
   },
   "file_extension": ".py",
   "mimetype": "text/x-python",
   "name": "python",
   "nbconvert_exporter": "python",
   "pygments_lexer": "ipython3",
   "version": "3.9.15"
  },
  "toc": {
   "base_numbering": 1,
   "nav_menu": {},
   "number_sections": true,
   "sideBar": true,
   "skip_h1_title": false,
   "title_cell": "Table of Contents",
   "title_sidebar": "Contents",
   "toc_cell": false,
   "toc_position": {},
   "toc_section_display": true,
   "toc_window_display": false
  }
 },
 "nbformat": 4,
 "nbformat_minor": 5
}
