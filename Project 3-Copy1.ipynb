{
 "cells": [
  {
   "cell_type": "markdown",
   "id": "d2682d2a",
   "metadata": {},
   "source": [
    "# IMBD Movies"
   ]
  },
  {
   "cell_type": "markdown",
   "id": "27ba3f73",
   "metadata": {},
   "source": [
    "- Kevin Ridge"
   ]
  },
  {
   "cell_type": "code",
   "execution_count": 1,
   "id": "ccbdcb94",
   "metadata": {},
   "outputs": [],
   "source": [
    "import pandas as pd\n",
    "import numpy as np\n",
    "import matplotlib.pyplot as plt\n",
    "import seaborn as sns"
   ]
  },
  {
   "cell_type": "code",
   "execution_count": 2,
   "id": "96e7c5b0",
   "metadata": {},
   "outputs": [],
   "source": [
    "main_url = \"https://datasets.imdbws.com/\"\n",
    "\n",
    "basics_url = \"https://datasets.imdbws.com/title.basics.tsv.gz\"\n",
    "        \n",
    "akas_url = \"https://datasets.imdbws.com/title.akas.tsv.gz\"\n",
    "            \n",
    "ratings_url = \"https://datasets.imdbws.com/title.ratings.tsv.gz\""
   ]
  },
  {
   "cell_type": "code",
   "execution_count": 3,
   "id": "7bbe4a2b",
   "metadata": {},
   "outputs": [],
   "source": [
    "basics = pd.read_csv(basics_url, sep='\\t', low_memory=False)\n",
    "akas = pd.read_csv(akas_url, sep='\\t', low_memory=False)\n",
    "ratings = pd.read_csv(ratings_url, sep='\\t', low_memory=False)"
   ]
  },
  {
   "cell_type": "markdown",
   "id": "8b54852a",
   "metadata": {},
   "source": [
    "## Basics dataset filtering"
   ]
  },
  {
   "cell_type": "markdown",
   "id": "b4b69d2a",
   "metadata": {},
   "source": [
    "#### Filtering/Cleaning Steps: \n",
    "- Title Basics:\n",
    "- Replace \"\\N\" with np.nan\n",
    "- Eliminate movies that are null for runtimeMinutes\n",
    "- Eliminate movies that are null for genre\n",
    "- keep only titleType==Movie\n",
    "- keep startYear 2000-2022\n",
    "- Eliminate movies that include \"Documentary\" in genre (see tip below)\n",
    "- Keep only US movies (Use AKAs table, see \"Filtering one dataframe based on another\" section below."
   ]
  },
  {
   "cell_type": "code",
   "execution_count": 45,
   "id": "64e0402c",
   "metadata": {
    "scrolled": true
   },
   "outputs": [
    {
     "data": {
      "text/html": [
       "<div>\n",
       "<style scoped>\n",
       "    .dataframe tbody tr th:only-of-type {\n",
       "        vertical-align: middle;\n",
       "    }\n",
       "\n",
       "    .dataframe tbody tr th {\n",
       "        vertical-align: top;\n",
       "    }\n",
       "\n",
       "    .dataframe thead th {\n",
       "        text-align: right;\n",
       "    }\n",
       "</style>\n",
       "<table border=\"1\" class=\"dataframe\">\n",
       "  <thead>\n",
       "    <tr style=\"text-align: right;\">\n",
       "      <th></th>\n",
       "      <th>tconst</th>\n",
       "      <th>titleType</th>\n",
       "      <th>primaryTitle</th>\n",
       "      <th>originalTitle</th>\n",
       "      <th>isAdult</th>\n",
       "      <th>startYear</th>\n",
       "      <th>endYear</th>\n",
       "      <th>runtimeMinutes</th>\n",
       "      <th>genres</th>\n",
       "    </tr>\n",
       "  </thead>\n",
       "  <tbody>\n",
       "    <tr>\n",
       "      <th>34803</th>\n",
       "      <td>tt0035423</td>\n",
       "      <td>movie</td>\n",
       "      <td>Kate &amp; Leopold</td>\n",
       "      <td>Kate &amp; Leopold</td>\n",
       "      <td>0</td>\n",
       "      <td>2001</td>\n",
       "      <td>NaN</td>\n",
       "      <td>118</td>\n",
       "      <td>Comedy,Fantasy,Romance</td>\n",
       "    </tr>\n",
       "    <tr>\n",
       "      <th>42384</th>\n",
       "      <td>tt0043139</td>\n",
       "      <td>movie</td>\n",
       "      <td>Life of a Beijing Policeman</td>\n",
       "      <td>Wo zhe yi bei zi</td>\n",
       "      <td>0</td>\n",
       "      <td>2013</td>\n",
       "      <td>NaN</td>\n",
       "      <td>120</td>\n",
       "      <td>Drama,History</td>\n",
       "    </tr>\n",
       "    <tr>\n",
       "      <th>61115</th>\n",
       "      <td>tt0062336</td>\n",
       "      <td>movie</td>\n",
       "      <td>The Tango of the Widower and Its Distorting Mi...</td>\n",
       "      <td>El tango del viudo y su espejo deformante</td>\n",
       "      <td>0</td>\n",
       "      <td>2020</td>\n",
       "      <td>NaN</td>\n",
       "      <td>70</td>\n",
       "      <td>Drama</td>\n",
       "    </tr>\n",
       "    <tr>\n",
       "      <th>67667</th>\n",
       "      <td>tt0069049</td>\n",
       "      <td>movie</td>\n",
       "      <td>The Other Side of the Wind</td>\n",
       "      <td>The Other Side of the Wind</td>\n",
       "      <td>0</td>\n",
       "      <td>2018</td>\n",
       "      <td>NaN</td>\n",
       "      <td>122</td>\n",
       "      <td>Drama</td>\n",
       "    </tr>\n",
       "    <tr>\n",
       "      <th>86799</th>\n",
       "      <td>tt0088751</td>\n",
       "      <td>movie</td>\n",
       "      <td>The Naked Monster</td>\n",
       "      <td>The Naked Monster</td>\n",
       "      <td>0</td>\n",
       "      <td>2005</td>\n",
       "      <td>NaN</td>\n",
       "      <td>100</td>\n",
       "      <td>Comedy,Horror,Sci-Fi</td>\n",
       "    </tr>\n",
       "  </tbody>\n",
       "</table>\n",
       "</div>"
      ],
      "text/plain": [
       "          tconst titleType                                       primaryTitle  \\\n",
       "34803  tt0035423     movie                                     Kate & Leopold   \n",
       "42384  tt0043139     movie                        Life of a Beijing Policeman   \n",
       "61115  tt0062336     movie  The Tango of the Widower and Its Distorting Mi...   \n",
       "67667  tt0069049     movie                         The Other Side of the Wind   \n",
       "86799  tt0088751     movie                                  The Naked Monster   \n",
       "\n",
       "                                   originalTitle isAdult  startYear  endYear  \\\n",
       "34803                             Kate & Leopold       0       2001      NaN   \n",
       "42384                           Wo zhe yi bei zi       0       2013      NaN   \n",
       "61115  El tango del viudo y su espejo deformante       0       2020      NaN   \n",
       "67667                 The Other Side of the Wind       0       2018      NaN   \n",
       "86799                          The Naked Monster       0       2005      NaN   \n",
       "\n",
       "      runtimeMinutes                  genres  \n",
       "34803            118  Comedy,Fantasy,Romance  \n",
       "42384            120           Drama,History  \n",
       "61115             70                   Drama  \n",
       "67667            122                   Drama  \n",
       "86799            100    Comedy,Horror,Sci-Fi  "
      ]
     },
     "execution_count": 45,
     "metadata": {},
     "output_type": "execute_result"
    }
   ],
   "source": [
    "# Replace \"\\N\" with np.nan\n",
    "basics.replace({'\\\\N':np.nan}, inplace=True)\n",
    "basics.head()"
   ]
  },
  {
   "cell_type": "code",
   "execution_count": 46,
   "id": "1f48cff2",
   "metadata": {},
   "outputs": [],
   "source": [
    "# Eliminate movies that are null for runtimeMinutes, and genres\n",
    "basics.dropna(subset=['runtimeMinutes','genres'], inplace=True)"
   ]
  },
  {
   "cell_type": "code",
   "execution_count": 47,
   "id": "a1556332",
   "metadata": {},
   "outputs": [
    {
     "data": {
      "text/html": [
       "<div>\n",
       "<style scoped>\n",
       "    .dataframe tbody tr th:only-of-type {\n",
       "        vertical-align: middle;\n",
       "    }\n",
       "\n",
       "    .dataframe tbody tr th {\n",
       "        vertical-align: top;\n",
       "    }\n",
       "\n",
       "    .dataframe thead th {\n",
       "        text-align: right;\n",
       "    }\n",
       "</style>\n",
       "<table border=\"1\" class=\"dataframe\">\n",
       "  <thead>\n",
       "    <tr style=\"text-align: right;\">\n",
       "      <th></th>\n",
       "      <th>tconst</th>\n",
       "      <th>titleType</th>\n",
       "      <th>primaryTitle</th>\n",
       "      <th>originalTitle</th>\n",
       "      <th>isAdult</th>\n",
       "      <th>startYear</th>\n",
       "      <th>endYear</th>\n",
       "      <th>runtimeMinutes</th>\n",
       "      <th>genres</th>\n",
       "    </tr>\n",
       "  </thead>\n",
       "  <tbody>\n",
       "    <tr>\n",
       "      <th>34803</th>\n",
       "      <td>tt0035423</td>\n",
       "      <td>movie</td>\n",
       "      <td>Kate &amp; Leopold</td>\n",
       "      <td>Kate &amp; Leopold</td>\n",
       "      <td>0</td>\n",
       "      <td>2001</td>\n",
       "      <td>NaN</td>\n",
       "      <td>118</td>\n",
       "      <td>Comedy,Fantasy,Romance</td>\n",
       "    </tr>\n",
       "    <tr>\n",
       "      <th>42384</th>\n",
       "      <td>tt0043139</td>\n",
       "      <td>movie</td>\n",
       "      <td>Life of a Beijing Policeman</td>\n",
       "      <td>Wo zhe yi bei zi</td>\n",
       "      <td>0</td>\n",
       "      <td>2013</td>\n",
       "      <td>NaN</td>\n",
       "      <td>120</td>\n",
       "      <td>Drama,History</td>\n",
       "    </tr>\n",
       "    <tr>\n",
       "      <th>61115</th>\n",
       "      <td>tt0062336</td>\n",
       "      <td>movie</td>\n",
       "      <td>The Tango of the Widower and Its Distorting Mi...</td>\n",
       "      <td>El tango del viudo y su espejo deformante</td>\n",
       "      <td>0</td>\n",
       "      <td>2020</td>\n",
       "      <td>NaN</td>\n",
       "      <td>70</td>\n",
       "      <td>Drama</td>\n",
       "    </tr>\n",
       "    <tr>\n",
       "      <th>67667</th>\n",
       "      <td>tt0069049</td>\n",
       "      <td>movie</td>\n",
       "      <td>The Other Side of the Wind</td>\n",
       "      <td>The Other Side of the Wind</td>\n",
       "      <td>0</td>\n",
       "      <td>2018</td>\n",
       "      <td>NaN</td>\n",
       "      <td>122</td>\n",
       "      <td>Drama</td>\n",
       "    </tr>\n",
       "    <tr>\n",
       "      <th>86799</th>\n",
       "      <td>tt0088751</td>\n",
       "      <td>movie</td>\n",
       "      <td>The Naked Monster</td>\n",
       "      <td>The Naked Monster</td>\n",
       "      <td>0</td>\n",
       "      <td>2005</td>\n",
       "      <td>NaN</td>\n",
       "      <td>100</td>\n",
       "      <td>Comedy,Horror,Sci-Fi</td>\n",
       "    </tr>\n",
       "  </tbody>\n",
       "</table>\n",
       "</div>"
      ],
      "text/plain": [
       "          tconst titleType                                       primaryTitle  \\\n",
       "34803  tt0035423     movie                                     Kate & Leopold   \n",
       "42384  tt0043139     movie                        Life of a Beijing Policeman   \n",
       "61115  tt0062336     movie  The Tango of the Widower and Its Distorting Mi...   \n",
       "67667  tt0069049     movie                         The Other Side of the Wind   \n",
       "86799  tt0088751     movie                                  The Naked Monster   \n",
       "\n",
       "                                   originalTitle isAdult  startYear  endYear  \\\n",
       "34803                             Kate & Leopold       0       2001      NaN   \n",
       "42384                           Wo zhe yi bei zi       0       2013      NaN   \n",
       "61115  El tango del viudo y su espejo deformante       0       2020      NaN   \n",
       "67667                 The Other Side of the Wind       0       2018      NaN   \n",
       "86799                          The Naked Monster       0       2005      NaN   \n",
       "\n",
       "      runtimeMinutes                  genres  \n",
       "34803            118  Comedy,Fantasy,Romance  \n",
       "42384            120           Drama,History  \n",
       "61115             70                   Drama  \n",
       "67667            122                   Drama  \n",
       "86799            100    Comedy,Horror,Sci-Fi  "
      ]
     },
     "execution_count": 47,
     "metadata": {},
     "output_type": "execute_result"
    }
   ],
   "source": [
    "# keep only titleType==Movie\n",
    "basics = basics[basics['titleType']=='movie']\n",
    "basics.head()"
   ]
  },
  {
   "cell_type": "code",
   "execution_count": 48,
   "id": "5bc2a895",
   "metadata": {
    "scrolled": false
   },
   "outputs": [
    {
     "data": {
      "text/plain": [
       "tconst                 0\n",
       "titleType              0\n",
       "primaryTitle           0\n",
       "originalTitle          0\n",
       "isAdult                0\n",
       "startYear              0\n",
       "endYear           147865\n",
       "runtimeMinutes         0\n",
       "genres                 0\n",
       "dtype: int64"
      ]
     },
     "execution_count": 48,
     "metadata": {},
     "output_type": "execute_result"
    }
   ],
   "source": [
    "# Check for Nan's\n",
    "basics.isna().sum()"
   ]
  },
  {
   "cell_type": "code",
   "execution_count": 49,
   "id": "460e91e9",
   "metadata": {
    "scrolled": true
   },
   "outputs": [],
   "source": [
    "# drop the NaN's so filter can be used\n",
    "basics.dropna(subset = ['startYear'], inplace=True)"
   ]
  },
  {
   "cell_type": "code",
   "execution_count": 50,
   "id": "3f0e1bd3",
   "metadata": {},
   "outputs": [],
   "source": [
    "# Change startYear datatype to integer so filter can be used\n",
    "basics['startYear'] = basics['startYear'].astype(int)"
   ]
  },
  {
   "cell_type": "code",
   "execution_count": 51,
   "id": "43a0f418",
   "metadata": {},
   "outputs": [],
   "source": [
    "# Keep only movies with startYear 2000-2022\n",
    "basics = basics.loc[(df_bas['startYear']>=2000)&(basics['startYear']<=2022)]"
   ]
  },
  {
   "cell_type": "code",
   "execution_count": 52,
   "id": "12e9ebc7",
   "metadata": {
    "scrolled": true
   },
   "outputs": [
    {
     "data": {
      "text/plain": [
       "2018    9724\n",
       "2017    9505\n",
       "2019    9478\n",
       "2022    9131\n",
       "2016    9076\n",
       "2015    8641\n",
       "2021    8381\n",
       "2014    8229\n",
       "2013    7834\n",
       "2020    7672\n",
       "2012    7341\n",
       "2011    6792\n",
       "2010    6391\n",
       "2009    6001\n",
       "2008    5235\n",
       "2007    4643\n",
       "2006    4418\n",
       "2005    3930\n",
       "2004    3564\n",
       "2003    3254\n",
       "2002    3000\n",
       "2001    2878\n",
       "2000    2747\n",
       "Name: startYear, dtype: int64"
      ]
     },
     "execution_count": 52,
     "metadata": {},
     "output_type": "execute_result"
    }
   ],
   "source": [
    "# Check filter for startYear\n",
    "basics['startYear'].value_counts()"
   ]
  },
  {
   "cell_type": "code",
   "execution_count": 53,
   "id": "050692d0",
   "metadata": {},
   "outputs": [
    {
     "data": {
      "text/plain": [
       "Index(['tconst', 'titleType', 'primaryTitle', 'originalTitle', 'isAdult',\n",
       "       'runtimeMinutes', 'genres'],\n",
       "      dtype='object')"
      ]
     },
     "execution_count": 53,
     "metadata": {},
     "output_type": "execute_result"
    }
   ],
   "source": [
    "# Create object data type variable\n",
    "dtypes = basics.dtypes\n",
    "typ_obj = dtypes[dtypes== 'object'].index\n",
    "typ_obj"
   ]
  },
  {
   "cell_type": "code",
   "execution_count": 54,
   "id": "001ac55a",
   "metadata": {},
   "outputs": [
    {
     "name": "stdout",
     "output_type": "stream",
     "text": [
      "-Column= tconst\n",
      "tt0035423     1\n",
      "tt3255606     1\n",
      "tt3262728     1\n",
      "tt3262740     1\n",
      "tt3262822     1\n",
      "             ..\n",
      "tt14019648    1\n",
      "tt14020182    1\n",
      "tt14020276    1\n",
      "tt14020762    1\n",
      "tt9916538     1\n",
      "Name: tconst, Length: 147865, dtype: int64\n",
      "\n",
      "\n",
      "-Column= titleType\n",
      "movie    147865\n",
      "Name: titleType, dtype: int64\n",
      "\n",
      "\n",
      "-Column= primaryTitle\n",
      "Broken                 25\n",
      "Alone                  21\n",
      "Homecoming             20\n",
      "Run                    17\n",
      "Home                   17\n",
      "                       ..\n",
      "Chal Mera Putt 3        1\n",
      "Khesarot                1\n",
      "L'amour impossible      1\n",
      "Nature of the dream     1\n",
      "Kuambil Lagi Hatiku     1\n",
      "Name: primaryTitle, Length: 133183, dtype: int64\n",
      "\n",
      "\n",
      "-Column= originalTitle\n",
      "Broken                 24\n",
      "Alone                  18\n",
      "Run                    17\n",
      "Homecoming             16\n",
      "Gone                   15\n",
      "                       ..\n",
      "Coupled with Love       1\n",
      "Almaz Black Box         1\n",
      "Klyuch salamandry       1\n",
      "Trader                  1\n",
      "Kuambil Lagi Hatiku     1\n",
      "Name: originalTitle, Length: 137140, dtype: int64\n",
      "\n",
      "\n",
      "-Column= isAdult\n",
      "0    147046\n",
      "1       819\n",
      "Name: isAdult, dtype: int64\n",
      "\n",
      "\n",
      "-Column= runtimeMinutes\n",
      "90     10605\n",
      "100     4506\n",
      "95      4360\n",
      "80      4253\n",
      "85      4018\n",
      "       ...  \n",
      "373        1\n",
      "397        1\n",
      "675        1\n",
      "318        1\n",
      "808        1\n",
      "Name: runtimeMinutes, Length: 378, dtype: int64\n",
      "\n",
      "\n",
      "-Column= genres\n",
      "Drama                        36113\n",
      "Comedy                       13477\n",
      "Comedy,Drama                  6455\n",
      "Horror                        5817\n",
      "Drama,Romance                 4317\n",
      "                             ...  \n",
      "Family,Musical,Sport             1\n",
      "Horror,Music,Mystery             1\n",
      "Comedy,History,Mystery           1\n",
      "Animation,Biography,Sport        1\n",
      "Crime,Fantasy,Sci-Fi             1\n",
      "Name: genres, Length: 954, dtype: int64\n",
      "\n",
      "\n"
     ]
    }
   ],
   "source": [
    "# Inspect the object data types\n",
    "for col in typ_obj:\n",
    "  print(f'-Column= {col}')\n",
    "  print(basics[col].value_counts(dropna=False))\n",
    "  print('\\n')"
   ]
  },
  {
   "cell_type": "code",
   "execution_count": 55,
   "id": "b9c4e9a3",
   "metadata": {},
   "outputs": [],
   "source": [
    "# Exclude movies that are included in the documentary category.\n",
    "is_documentary = basics['genres'].str.contains('documentary',case=False)\n",
    "basics = basics[~is_documentary]"
   ]
  },
  {
   "cell_type": "code",
   "execution_count": 56,
   "id": "576c26d9",
   "metadata": {},
   "outputs": [
    {
     "data": {
      "text/plain": [
       "Drama                        36113\n",
       "Comedy                       13477\n",
       "Comedy,Drama                  6455\n",
       "Horror                        5817\n",
       "Drama,Romance                 4317\n",
       "                             ...  \n",
       "Family,Musical,Sport             1\n",
       "Horror,Music,Mystery             1\n",
       "Comedy,History,Mystery           1\n",
       "Animation,Biography,Sport        1\n",
       "Crime,Fantasy,Sci-Fi             1\n",
       "Name: genres, Length: 954, dtype: int64"
      ]
     },
     "execution_count": 56,
     "metadata": {},
     "output_type": "execute_result"
    }
   ],
   "source": [
    "# Check remove documentary filter\n",
    "basics['genres'].value_counts()"
   ]
  },
  {
   "cell_type": "markdown",
   "id": "d72447ce",
   "metadata": {},
   "source": [
    "## AKA dataset filtering"
   ]
  },
  {
   "cell_type": "code",
   "execution_count": 57,
   "id": "37ab4c39",
   "metadata": {
    "scrolled": true
   },
   "outputs": [
    {
     "name": "stdout",
     "output_type": "stream",
     "text": [
      "<class 'pandas.core.frame.DataFrame'>\n",
      "Int64Index: 1449100 entries, 5 to 36441940\n",
      "Data columns (total 8 columns):\n",
      " #   Column           Non-Null Count    Dtype \n",
      "---  ------           --------------    ----- \n",
      " 0   titleId          1449100 non-null  object\n",
      " 1   ordering         1449100 non-null  int64 \n",
      " 2   title            1449100 non-null  object\n",
      " 3   region           1449100 non-null  object\n",
      " 4   language         3979 non-null     object\n",
      " 5   types            980896 non-null   object\n",
      " 6   attributes       46915 non-null    object\n",
      " 7   isOriginalTitle  1447758 non-null  object\n",
      "dtypes: int64(1), object(7)\n",
      "memory usage: 99.5+ MB\n"
     ]
    },
    {
     "data": {
      "text/html": [
       "<div>\n",
       "<style scoped>\n",
       "    .dataframe tbody tr th:only-of-type {\n",
       "        vertical-align: middle;\n",
       "    }\n",
       "\n",
       "    .dataframe tbody tr th {\n",
       "        vertical-align: top;\n",
       "    }\n",
       "\n",
       "    .dataframe thead th {\n",
       "        text-align: right;\n",
       "    }\n",
       "</style>\n",
       "<table border=\"1\" class=\"dataframe\">\n",
       "  <thead>\n",
       "    <tr style=\"text-align: right;\">\n",
       "      <th></th>\n",
       "      <th>titleId</th>\n",
       "      <th>ordering</th>\n",
       "      <th>title</th>\n",
       "      <th>region</th>\n",
       "      <th>language</th>\n",
       "      <th>types</th>\n",
       "      <th>attributes</th>\n",
       "      <th>isOriginalTitle</th>\n",
       "    </tr>\n",
       "  </thead>\n",
       "  <tbody>\n",
       "    <tr>\n",
       "      <th>5</th>\n",
       "      <td>tt0000001</td>\n",
       "      <td>6</td>\n",
       "      <td>Carmencita</td>\n",
       "      <td>US</td>\n",
       "      <td>NaN</td>\n",
       "      <td>imdbDisplay</td>\n",
       "      <td>NaN</td>\n",
       "      <td>0</td>\n",
       "    </tr>\n",
       "    <tr>\n",
       "      <th>14</th>\n",
       "      <td>tt0000002</td>\n",
       "      <td>7</td>\n",
       "      <td>The Clown and His Dogs</td>\n",
       "      <td>US</td>\n",
       "      <td>NaN</td>\n",
       "      <td>NaN</td>\n",
       "      <td>literal English title</td>\n",
       "      <td>0</td>\n",
       "    </tr>\n",
       "    <tr>\n",
       "      <th>33</th>\n",
       "      <td>tt0000005</td>\n",
       "      <td>10</td>\n",
       "      <td>Blacksmith Scene</td>\n",
       "      <td>US</td>\n",
       "      <td>NaN</td>\n",
       "      <td>imdbDisplay</td>\n",
       "      <td>NaN</td>\n",
       "      <td>0</td>\n",
       "    </tr>\n",
       "    <tr>\n",
       "      <th>36</th>\n",
       "      <td>tt0000005</td>\n",
       "      <td>1</td>\n",
       "      <td>Blacksmithing Scene</td>\n",
       "      <td>US</td>\n",
       "      <td>NaN</td>\n",
       "      <td>alternative</td>\n",
       "      <td>NaN</td>\n",
       "      <td>0</td>\n",
       "    </tr>\n",
       "    <tr>\n",
       "      <th>41</th>\n",
       "      <td>tt0000005</td>\n",
       "      <td>6</td>\n",
       "      <td>Blacksmith Scene #1</td>\n",
       "      <td>US</td>\n",
       "      <td>NaN</td>\n",
       "      <td>alternative</td>\n",
       "      <td>NaN</td>\n",
       "      <td>0</td>\n",
       "    </tr>\n",
       "  </tbody>\n",
       "</table>\n",
       "</div>"
      ],
      "text/plain": [
       "      titleId  ordering                   title region language        types  \\\n",
       "5   tt0000001         6              Carmencita     US      NaN  imdbDisplay   \n",
       "14  tt0000002         7  The Clown and His Dogs     US      NaN          NaN   \n",
       "33  tt0000005        10        Blacksmith Scene     US      NaN  imdbDisplay   \n",
       "36  tt0000005         1     Blacksmithing Scene     US      NaN  alternative   \n",
       "41  tt0000005         6     Blacksmith Scene #1     US      NaN  alternative   \n",
       "\n",
       "               attributes isOriginalTitle  \n",
       "5                     NaN               0  \n",
       "14  literal English title               0  \n",
       "33                    NaN               0  \n",
       "36                    NaN               0  \n",
       "41                    NaN               0  "
      ]
     },
     "execution_count": 57,
     "metadata": {},
     "output_type": "execute_result"
    }
   ],
   "source": [
    "# Display title akas info\n",
    "akas.info()\n",
    "akas.head()"
   ]
  },
  {
   "cell_type": "code",
   "execution_count": 58,
   "id": "4c729eb6",
   "metadata": {},
   "outputs": [
    {
     "name": "stderr",
     "output_type": "stream",
     "text": [
      "C:\\Users\\ridge\\AppData\\Local\\Temp\\ipykernel_53240\\1330853906.py:2: SettingWithCopyWarning: \n",
      "A value is trying to be set on a copy of a slice from a DataFrame\n",
      "\n",
      "See the caveats in the documentation: https://pandas.pydata.org/pandas-docs/stable/user_guide/indexing.html#returning-a-view-versus-a-copy\n",
      "  akas.replace({'\\\\N': np.nan}, inplace=True)\n"
     ]
    }
   ],
   "source": [
    "# Replace \"\\N\" with np.nan\n",
    "akas.replace({'\\\\N': np.nan}, inplace=True)"
   ]
  },
  {
   "cell_type": "code",
   "execution_count": 59,
   "id": "2204ae1a",
   "metadata": {},
   "outputs": [],
   "source": [
    "# Keep only the movies from US region\n",
    "akas = akas[akas['region']=='US']"
   ]
  },
  {
   "cell_type": "code",
   "execution_count": 60,
   "id": "e7afeee1",
   "metadata": {
    "scrolled": true
   },
   "outputs": [
    {
     "data": {
      "text/plain": [
       "34803       True\n",
       "42384       True\n",
       "61115       True\n",
       "67667       True\n",
       "86799       True\n",
       "           ...  \n",
       "9980958     True\n",
       "9980967     True\n",
       "9981006    False\n",
       "9981051     True\n",
       "9981135    False\n",
       "Name: tconst, Length: 147865, dtype: bool"
      ]
     },
     "execution_count": 60,
     "metadata": {},
     "output_type": "execute_result"
    }
   ],
   "source": [
    "# Filter the basics table down to only include the US by using the filter akas\n",
    "keepers = basics['tconst'].isin(akas['titleId'])\n",
    "keepers"
   ]
  },
  {
   "cell_type": "code",
   "execution_count": 61,
   "id": "21ac84c6",
   "metadata": {},
   "outputs": [
    {
     "data": {
      "text/html": [
       "<div>\n",
       "<style scoped>\n",
       "    .dataframe tbody tr th:only-of-type {\n",
       "        vertical-align: middle;\n",
       "    }\n",
       "\n",
       "    .dataframe tbody tr th {\n",
       "        vertical-align: top;\n",
       "    }\n",
       "\n",
       "    .dataframe thead th {\n",
       "        text-align: right;\n",
       "    }\n",
       "</style>\n",
       "<table border=\"1\" class=\"dataframe\">\n",
       "  <thead>\n",
       "    <tr style=\"text-align: right;\">\n",
       "      <th></th>\n",
       "      <th>tconst</th>\n",
       "      <th>titleType</th>\n",
       "      <th>primaryTitle</th>\n",
       "      <th>originalTitle</th>\n",
       "      <th>isAdult</th>\n",
       "      <th>startYear</th>\n",
       "      <th>endYear</th>\n",
       "      <th>runtimeMinutes</th>\n",
       "      <th>genres</th>\n",
       "    </tr>\n",
       "  </thead>\n",
       "  <tbody>\n",
       "    <tr>\n",
       "      <th>34803</th>\n",
       "      <td>tt0035423</td>\n",
       "      <td>movie</td>\n",
       "      <td>Kate &amp; Leopold</td>\n",
       "      <td>Kate &amp; Leopold</td>\n",
       "      <td>0</td>\n",
       "      <td>2001</td>\n",
       "      <td>NaN</td>\n",
       "      <td>118</td>\n",
       "      <td>Comedy,Fantasy,Romance</td>\n",
       "    </tr>\n",
       "    <tr>\n",
       "      <th>42384</th>\n",
       "      <td>tt0043139</td>\n",
       "      <td>movie</td>\n",
       "      <td>Life of a Beijing Policeman</td>\n",
       "      <td>Wo zhe yi bei zi</td>\n",
       "      <td>0</td>\n",
       "      <td>2013</td>\n",
       "      <td>NaN</td>\n",
       "      <td>120</td>\n",
       "      <td>Drama,History</td>\n",
       "    </tr>\n",
       "    <tr>\n",
       "      <th>61115</th>\n",
       "      <td>tt0062336</td>\n",
       "      <td>movie</td>\n",
       "      <td>The Tango of the Widower and Its Distorting Mi...</td>\n",
       "      <td>El tango del viudo y su espejo deformante</td>\n",
       "      <td>0</td>\n",
       "      <td>2020</td>\n",
       "      <td>NaN</td>\n",
       "      <td>70</td>\n",
       "      <td>Drama</td>\n",
       "    </tr>\n",
       "    <tr>\n",
       "      <th>67667</th>\n",
       "      <td>tt0069049</td>\n",
       "      <td>movie</td>\n",
       "      <td>The Other Side of the Wind</td>\n",
       "      <td>The Other Side of the Wind</td>\n",
       "      <td>0</td>\n",
       "      <td>2018</td>\n",
       "      <td>NaN</td>\n",
       "      <td>122</td>\n",
       "      <td>Drama</td>\n",
       "    </tr>\n",
       "    <tr>\n",
       "      <th>86799</th>\n",
       "      <td>tt0088751</td>\n",
       "      <td>movie</td>\n",
       "      <td>The Naked Monster</td>\n",
       "      <td>The Naked Monster</td>\n",
       "      <td>0</td>\n",
       "      <td>2005</td>\n",
       "      <td>NaN</td>\n",
       "      <td>100</td>\n",
       "      <td>Comedy,Horror,Sci-Fi</td>\n",
       "    </tr>\n",
       "    <tr>\n",
       "      <th>...</th>\n",
       "      <td>...</td>\n",
       "      <td>...</td>\n",
       "      <td>...</td>\n",
       "      <td>...</td>\n",
       "      <td>...</td>\n",
       "      <td>...</td>\n",
       "      <td>...</td>\n",
       "      <td>...</td>\n",
       "      <td>...</td>\n",
       "    </tr>\n",
       "    <tr>\n",
       "      <th>9980423</th>\n",
       "      <td>tt9914942</td>\n",
       "      <td>movie</td>\n",
       "      <td>Life Without Sara Amat</td>\n",
       "      <td>La vida sense la Sara Amat</td>\n",
       "      <td>0</td>\n",
       "      <td>2019</td>\n",
       "      <td>NaN</td>\n",
       "      <td>74</td>\n",
       "      <td>Drama</td>\n",
       "    </tr>\n",
       "    <tr>\n",
       "      <th>9980818</th>\n",
       "      <td>tt9915872</td>\n",
       "      <td>movie</td>\n",
       "      <td>The Last White Witch</td>\n",
       "      <td>My Girlfriend is a Wizard</td>\n",
       "      <td>0</td>\n",
       "      <td>2019</td>\n",
       "      <td>NaN</td>\n",
       "      <td>97</td>\n",
       "      <td>Comedy,Drama,Fantasy</td>\n",
       "    </tr>\n",
       "    <tr>\n",
       "      <th>9980958</th>\n",
       "      <td>tt9916170</td>\n",
       "      <td>movie</td>\n",
       "      <td>The Rehearsal</td>\n",
       "      <td>O Ensaio</td>\n",
       "      <td>0</td>\n",
       "      <td>2019</td>\n",
       "      <td>NaN</td>\n",
       "      <td>51</td>\n",
       "      <td>Drama</td>\n",
       "    </tr>\n",
       "    <tr>\n",
       "      <th>9980967</th>\n",
       "      <td>tt9916190</td>\n",
       "      <td>movie</td>\n",
       "      <td>Safeguard</td>\n",
       "      <td>Safeguard</td>\n",
       "      <td>0</td>\n",
       "      <td>2020</td>\n",
       "      <td>NaN</td>\n",
       "      <td>95</td>\n",
       "      <td>Action,Adventure,Thriller</td>\n",
       "    </tr>\n",
       "    <tr>\n",
       "      <th>9981051</th>\n",
       "      <td>tt9916362</td>\n",
       "      <td>movie</td>\n",
       "      <td>Coven</td>\n",
       "      <td>Akelarre</td>\n",
       "      <td>0</td>\n",
       "      <td>2020</td>\n",
       "      <td>NaN</td>\n",
       "      <td>92</td>\n",
       "      <td>Drama,History</td>\n",
       "    </tr>\n",
       "  </tbody>\n",
       "</table>\n",
       "<p>86902 rows × 9 columns</p>\n",
       "</div>"
      ],
      "text/plain": [
       "            tconst titleType  \\\n",
       "34803    tt0035423     movie   \n",
       "42384    tt0043139     movie   \n",
       "61115    tt0062336     movie   \n",
       "67667    tt0069049     movie   \n",
       "86799    tt0088751     movie   \n",
       "...            ...       ...   \n",
       "9980423  tt9914942     movie   \n",
       "9980818  tt9915872     movie   \n",
       "9980958  tt9916170     movie   \n",
       "9980967  tt9916190     movie   \n",
       "9981051  tt9916362     movie   \n",
       "\n",
       "                                              primaryTitle  \\\n",
       "34803                                       Kate & Leopold   \n",
       "42384                          Life of a Beijing Policeman   \n",
       "61115    The Tango of the Widower and Its Distorting Mi...   \n",
       "67667                           The Other Side of the Wind   \n",
       "86799                                    The Naked Monster   \n",
       "...                                                    ...   \n",
       "9980423                             Life Without Sara Amat   \n",
       "9980818                               The Last White Witch   \n",
       "9980958                                      The Rehearsal   \n",
       "9980967                                          Safeguard   \n",
       "9981051                                              Coven   \n",
       "\n",
       "                                     originalTitle isAdult  startYear  \\\n",
       "34803                               Kate & Leopold       0       2001   \n",
       "42384                             Wo zhe yi bei zi       0       2013   \n",
       "61115    El tango del viudo y su espejo deformante       0       2020   \n",
       "67667                   The Other Side of the Wind       0       2018   \n",
       "86799                            The Naked Monster       0       2005   \n",
       "...                                            ...     ...        ...   \n",
       "9980423                 La vida sense la Sara Amat       0       2019   \n",
       "9980818                  My Girlfriend is a Wizard       0       2019   \n",
       "9980958                                   O Ensaio       0       2019   \n",
       "9980967                                  Safeguard       0       2020   \n",
       "9981051                                   Akelarre       0       2020   \n",
       "\n",
       "         endYear runtimeMinutes                     genres  \n",
       "34803        NaN            118     Comedy,Fantasy,Romance  \n",
       "42384        NaN            120              Drama,History  \n",
       "61115        NaN             70                      Drama  \n",
       "67667        NaN            122                      Drama  \n",
       "86799        NaN            100       Comedy,Horror,Sci-Fi  \n",
       "...          ...            ...                        ...  \n",
       "9980423      NaN             74                      Drama  \n",
       "9980818      NaN             97       Comedy,Drama,Fantasy  \n",
       "9980958      NaN             51                      Drama  \n",
       "9980967      NaN             95  Action,Adventure,Thriller  \n",
       "9981051      NaN             92              Drama,History  \n",
       "\n",
       "[86902 rows x 9 columns]"
      ]
     },
     "execution_count": 61,
     "metadata": {},
     "output_type": "execute_result"
    }
   ],
   "source": [
    "# Display the filtered data\n",
    "basics = basics[keepers]\n",
    "basics"
   ]
  },
  {
   "cell_type": "code",
   "execution_count": 66,
   "id": "e1da790f",
   "metadata": {},
   "outputs": [
    {
     "name": "stdout",
     "output_type": "stream",
     "text": [
      "<class 'pandas.core.frame.DataFrame'>\n",
      "Int64Index: 1449100 entries, 5 to 36441940\n",
      "Data columns (total 8 columns):\n",
      " #   Column           Non-Null Count    Dtype \n",
      "---  ------           --------------    ----- \n",
      " 0   titleId          1449100 non-null  object\n",
      " 1   ordering         1449100 non-null  int64 \n",
      " 2   title            1449100 non-null  object\n",
      " 3   region           1449100 non-null  object\n",
      " 4   language         3979 non-null     object\n",
      " 5   types            980896 non-null   object\n",
      " 6   attributes       46915 non-null    object\n",
      " 7   isOriginalTitle  1447758 non-null  object\n",
      "dtypes: int64(1), object(7)\n",
      "memory usage: 99.5+ MB\n"
     ]
    }
   ],
   "source": [
    "akas.info()"
   ]
  },
  {
   "cell_type": "markdown",
   "id": "70ee9a2b",
   "metadata": {},
   "source": [
    "## Ratings dataset filtering"
   ]
  },
  {
   "cell_type": "code",
   "execution_count": 62,
   "id": "9b13c615",
   "metadata": {
    "scrolled": true
   },
   "outputs": [
    {
     "name": "stdout",
     "output_type": "stream",
     "text": [
      "<class 'pandas.core.frame.DataFrame'>\n",
      "RangeIndex: 1326238 entries, 0 to 1326237\n",
      "Data columns (total 3 columns):\n",
      " #   Column         Non-Null Count    Dtype  \n",
      "---  ------         --------------    -----  \n",
      " 0   tconst         1326238 non-null  object \n",
      " 1   averageRating  1326238 non-null  float64\n",
      " 2   numVotes       1326238 non-null  int64  \n",
      "dtypes: float64(1), int64(1), object(1)\n",
      "memory usage: 30.4+ MB\n"
     ]
    }
   ],
   "source": [
    "ratings.info()"
   ]
  },
  {
   "cell_type": "code",
   "execution_count": 63,
   "id": "08b38699",
   "metadata": {},
   "outputs": [],
   "source": [
    "# Replace \"\\N\" with np.nan (if any)\n",
    "ratings.replace({'\\\\N': np.nan}, inplace=True)"
   ]
  },
  {
   "cell_type": "code",
   "execution_count": 64,
   "id": "f2a9729d",
   "metadata": {
    "scrolled": true
   },
   "outputs": [
    {
     "data": {
      "text/plain": [
       "0           True\n",
       "1           True\n",
       "2          False\n",
       "3          False\n",
       "4           True\n",
       "           ...  \n",
       "1326233    False\n",
       "1326234    False\n",
       "1326235    False\n",
       "1326236    False\n",
       "1326237    False\n",
       "Name: tconst, Length: 1326238, dtype: bool"
      ]
     },
     "execution_count": 64,
     "metadata": {},
     "output_type": "execute_result"
    }
   ],
   "source": [
    "# Keep only US movies \n",
    "ratings = ratings['tconst'].isin(akas['titleId'])\n",
    "ratings"
   ]
  },
  {
   "cell_type": "code",
   "execution_count": 65,
   "id": "cc1a30de",
   "metadata": {
    "scrolled": true
   },
   "outputs": [
    {
     "data": {
      "text/plain": [
       "0          True\n",
       "1          True\n",
       "4          True\n",
       "5          True\n",
       "6          True\n",
       "           ... \n",
       "1326199    True\n",
       "1326200    True\n",
       "1326207    True\n",
       "1326208    True\n",
       "1326213    True\n",
       "Name: tconst, Length: 502679, dtype: bool"
      ]
     },
     "execution_count": 65,
     "metadata": {},
     "output_type": "execute_result"
    }
   ],
   "source": [
    "# Display the filtered data\n",
    "ratings = ratings[ratings]\n",
    "ratings"
   ]
  },
  {
   "cell_type": "code",
   "execution_count": 68,
   "id": "76720484",
   "metadata": {},
   "outputs": [
    {
     "data": {
      "text/plain": [
       "['.ipynb_checkpoints']"
      ]
     },
     "execution_count": 68,
     "metadata": {},
     "output_type": "execute_result"
    }
   ],
   "source": [
    "# example making new folder with os\n",
    "import os\n",
    "os.makedirs('Data/',exist_ok=True) \n",
    "# Confirm folder created\n",
    "os.listdir(\"Data/\")"
   ]
  },
  {
   "cell_type": "code",
   "execution_count": 69,
   "id": "0b3c1d2e",
   "metadata": {},
   "outputs": [],
   "source": [
    "# Save basics file to data folder\n",
    "basics.to_csv('Data/title_basics_cleaned.csv.gz',compression='gzip',index=False)"
   ]
  },
  {
   "cell_type": "code",
   "execution_count": 70,
   "id": "5de78581",
   "metadata": {},
   "outputs": [],
   "source": [
    "# Save akas file to data folder\n",
    "akas.to_csv('Data/title_akas_cleaned.csv.gz',compression='gzip',index=False)"
   ]
  },
  {
   "cell_type": "code",
   "execution_count": 71,
   "id": "c235b162",
   "metadata": {},
   "outputs": [],
   "source": [
    "# Save ratings file to data folder\n",
    "ratings.to_csv('Data/title_ratings_cleaned.csv.gz',compression='gzip',index=False)"
   ]
  },
  {
   "cell_type": "code",
   "execution_count": null,
   "id": "0001e276",
   "metadata": {},
   "outputs": [],
   "source": [
    "# Eliminate movies that include \"Documentary\" in genre\n",
    "#df_bas1 = df_bas[~df_bas['genres'].isin(['Documentary'])]"
   ]
  }
 ],
 "metadata": {
  "kernelspec": {
   "display_name": "Python 3 (ipykernel)",
   "language": "python",
   "name": "python3"
  },
  "language_info": {
   "codemirror_mode": {
    "name": "ipython",
    "version": 3
   },
   "file_extension": ".py",
   "mimetype": "text/x-python",
   "name": "python",
   "nbconvert_exporter": "python",
   "pygments_lexer": "ipython3",
   "version": "3.9.15"
  },
  "toc": {
   "base_numbering": 1,
   "nav_menu": {},
   "number_sections": true,
   "sideBar": true,
   "skip_h1_title": false,
   "title_cell": "Table of Contents",
   "title_sidebar": "Contents",
   "toc_cell": false,
   "toc_position": {},
   "toc_section_display": true,
   "toc_window_display": false
  }
 },
 "nbformat": 4,
 "nbformat_minor": 5
}
