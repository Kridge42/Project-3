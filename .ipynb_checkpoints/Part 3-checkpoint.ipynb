{
 "cells": [
  {
   "cell_type": "markdown",
   "id": "0f5c249a",
   "metadata": {},
   "source": [
    "# Objective"
   ]
  },
  {
   "cell_type": "markdown",
   "id": "3715d595",
   "metadata": {},
   "source": [
    "#### Construct and export a MySQL database using your data"
   ]
  },
  {
   "cell_type": "code",
   "execution_count": 1,
   "id": "4a3d1cce",
   "metadata": {},
   "outputs": [],
   "source": [
    "# Imports\n",
    "import numpy as np\n",
    "import pandas as pd"
   ]
  },
  {
   "cell_type": "code",
   "execution_count": 6,
   "id": "397e77e1",
   "metadata": {},
   "outputs": [],
   "source": [
    "# The the data\n",
    "basics = pd.read_csv('Data/title_basics_cleaned.csv.gz')\n",
    "ratings = pd.read_csv('Data/title_ratings_cleaned.csv.gz')\n",
    "results = pd.read_csv('Data/tmdb_results_combined.csv.gz')"
   ]
  },
  {
   "cell_type": "code",
   "execution_count": 3,
   "id": "e3e3bbbc",
   "metadata": {},
   "outputs": [
    {
     "name": "stdout",
     "output_type": "stream",
     "text": [
      "<class 'pandas.core.frame.DataFrame'>\n",
      "RangeIndex: 86909 entries, 0 to 86908\n",
      "Data columns (total 9 columns):\n",
      " #   Column          Non-Null Count  Dtype  \n",
      "---  ------          --------------  -----  \n",
      " 0   tconst          86909 non-null  object \n",
      " 1   titleType       86909 non-null  object \n",
      " 2   primaryTitle    86909 non-null  object \n",
      " 3   originalTitle   86909 non-null  object \n",
      " 4   isAdult         86909 non-null  int64  \n",
      " 5   startYear       86909 non-null  int64  \n",
      " 6   endYear         0 non-null      float64\n",
      " 7   runtimeMinutes  86909 non-null  int64  \n",
      " 8   genres          86909 non-null  object \n",
      "dtypes: float64(1), int64(3), object(5)\n",
      "memory usage: 6.0+ MB\n"
     ]
    }
   ],
   "source": [
    "basics.info()"
   ]
  },
  {
   "cell_type": "code",
   "execution_count": 7,
   "id": "5428635c",
   "metadata": {},
   "outputs": [
    {
     "name": "stdout",
     "output_type": "stream",
     "text": [
      "<class 'pandas.core.frame.DataFrame'>\n",
      "RangeIndex: 503742 entries, 0 to 503741\n",
      "Data columns (total 3 columns):\n",
      " #   Column         Non-Null Count   Dtype  \n",
      "---  ------         --------------   -----  \n",
      " 0   tconst         503742 non-null  object \n",
      " 1   averageRating  503742 non-null  float64\n",
      " 2   numVotes       503742 non-null  int64  \n",
      "dtypes: float64(1), int64(1), object(1)\n",
      "memory usage: 11.5+ MB\n"
     ]
    }
   ],
   "source": [
    "ratings.info()"
   ]
  },
  {
   "cell_type": "code",
   "execution_count": 8,
   "id": "31c8a1c5",
   "metadata": {},
   "outputs": [
    {
     "name": "stdout",
     "output_type": "stream",
     "text": [
      "<class 'pandas.core.frame.DataFrame'>\n",
      "RangeIndex: 356 entries, 0 to 355\n",
      "Data columns (total 26 columns):\n",
      " #   Column                 Non-Null Count  Dtype  \n",
      "---  ------                 --------------  -----  \n",
      " 0   imdb_id                356 non-null    object \n",
      " 1   adult                  356 non-null    float64\n",
      " 2   backdrop_path          349 non-null    object \n",
      " 3   belongs_to_collection  89 non-null     object \n",
      " 4   budget                 356 non-null    float64\n",
      " 5   genres                 356 non-null    object \n",
      " 6   homepage               51 non-null     object \n",
      " 7   id                     356 non-null    float64\n",
      " 8   original_language      356 non-null    object \n",
      " 9   original_title         356 non-null    object \n",
      " 10  overview               356 non-null    object \n",
      " 11  popularity             356 non-null    float64\n",
      " 12  poster_path            356 non-null    object \n",
      " 13  production_companies   356 non-null    object \n",
      " 14  production_countries   356 non-null    object \n",
      " 15  release_date           356 non-null    object \n",
      " 16  revenue                356 non-null    float64\n",
      " 17  runtime                356 non-null    float64\n",
      " 18  spoken_languages       356 non-null    object \n",
      " 19  status                 356 non-null    object \n",
      " 20  tagline                328 non-null    object \n",
      " 21  title                  356 non-null    object \n",
      " 22  video                  356 non-null    float64\n",
      " 23  vote_average           356 non-null    float64\n",
      " 24  vote_count             356 non-null    float64\n",
      " 25  certification          311 non-null    object \n",
      "dtypes: float64(9), object(17)\n",
      "memory usage: 72.4+ KB\n"
     ]
    }
   ],
   "source": [
    "results.info()"
   ]
  },
  {
   "cell_type": "code",
   "execution_count": null,
   "id": "6c8eb19c",
   "metadata": {},
   "outputs": [],
   "source": []
  }
 ],
 "metadata": {
  "kernelspec": {
   "display_name": "Python (dojo-env)",
   "language": "python",
   "name": "dojo-env"
  },
  "language_info": {
   "codemirror_mode": {
    "name": "ipython",
    "version": 3
   },
   "file_extension": ".py",
   "mimetype": "text/x-python",
   "name": "python",
   "nbconvert_exporter": "python",
   "pygments_lexer": "ipython3",
   "version": "3.9.15"
  },
  "toc": {
   "base_numbering": 1,
   "nav_menu": {},
   "number_sections": true,
   "sideBar": true,
   "skip_h1_title": false,
   "title_cell": "Table of Contents",
   "title_sidebar": "Contents",
   "toc_cell": false,
   "toc_position": {},
   "toc_section_display": true,
   "toc_window_display": false
  }
 },
 "nbformat": 4,
 "nbformat_minor": 5
}
